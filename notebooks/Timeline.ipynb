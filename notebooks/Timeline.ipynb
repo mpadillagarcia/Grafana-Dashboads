{
 "cells": [
  {
   "cell_type": "markdown",
   "id": "c49fca8a",
   "metadata": {},
   "source": [
    "### Timeline\n",
    "\n",
    "Script para obtener archivo timeline-20-50-2-0.csv que contiene la estructura necesaria para representar el estado de los vehículos en el componente State timeline de Grafana."
   ]
  },
  {
   "cell_type": "code",
   "execution_count": 1,
   "id": "80ea23cb",
   "metadata": {},
   "outputs": [
    {
     "name": "stdout",
     "output_type": "stream",
     "text": [
      "CSV creado satisfactoriamente.\n"
     ]
    }
   ],
   "source": [
    "import csv\n",
    "import json\n",
    "from datetime import datetime, timedelta\n",
    "\n",
    "# Diccionario para mapear los valores originales a los nuevos valores\n",
    "status_mapping = {\n",
    "    'initVehicle': 'Iniciando vehículo',\n",
    "    'movingEmptyVehicle': 'Vehículo libre en movimiento',\n",
    "    'initJob': 'Iniciando trabajo',\n",
    "    'movingWorkingVehicle': 'Vehículo trabajando en movimiento',\n",
    "    'endingJob': 'Terminando trabajo',\n",
    "    'finished': 'Trabajos completados'\n",
    "}\n",
    "\n",
    "# Leer el archivo JSON\n",
    "with open('solutionsComplete/solutionComplete-20-50-2-0.json', 'r') as json_file:\n",
    "    data = json.load(json_file)\n",
    "\n",
    "# Obtener el número de vehículos\n",
    "num_vehicles = len(data['routes'])\n",
    "\n",
    "# Crear encabezados del CSV\n",
    "fieldnames = ['timestamps'] + [f'Vehículo {i+1}' for i in range(num_vehicles)]\n",
    "\n",
    "# Crear lista de filas\n",
    "rows = []\n",
    "\n",
    "# Fecha inicial\n",
    "start_date = datetime(2000, 1, 1, 0, 0, 0)\n",
    "\n",
    "# Iterar sobre cada trayectoria mixta\n",
    "for i, trajectory in enumerate(data['mixedTrayectories']):\n",
    "    # Calcular timestamp sumando minutos acumulados a la fecha inicial\n",
    "    if trajectory['status'] == 'initVehicle':\n",
    "        timestamp = datetime(2000, 1, 1, 0, 0, 0)  # Si el status es initVehicle, usar el timestamp 2000-01-01 00:00:00\n",
    "    else:\n",
    "        timestamp = start_date + timedelta(minutes=trajectory['accumulatedCost'])\n",
    "    \n",
    "    # Mapear el status a su nuevo valor\n",
    "    status = status_mapping.get(trajectory['status'], trajectory['status'])\n",
    "    \n",
    "    # Crear fila\n",
    "    row = {'timestamps': timestamp}  # Eliminamos el campo 'id'\n",
    "    \n",
    "    # Asignar status a la columna correspondiente al vehículo\n",
    "    vehicle_index = trajectory['vehicle'] # Index basado en 0\n",
    "    row[f'Vehículo {vehicle_index+1}'] = status\n",
    "    \n",
    "    # Agregar fila a la lista de filas\n",
    "    rows.append(row)\n",
    "\n",
    "    \n",
    "# Eliminar filas donde aparece el valor 'waiting'\n",
    "rows = [row for row in rows if 'waiting' not in row.values()]\n",
    "\n",
    "# Iterar sobre las filas y ajustar los timestamps\n",
    "current_vehicle = 0\n",
    "for i in range(len(rows)):\n",
    "    if f'Vehículo {current_vehicle+1}' in rows[i]:  # Verificar si la clave existe en la fila\n",
    "        if rows[i][f'Vehículo {current_vehicle+1}'] != '':  # Si no es la primera fila de un vehículo\n",
    "            if i < len(rows) - 1 and f'Vehículo {current_vehicle+1}' in rows[i+1] and rows[i+1][f'Vehículo {current_vehicle+1}'] != '':  # Si no es la última fila de un vehículo\n",
    "                rows[i]['timestamps'] = rows[i]['timestamps']\n",
    "            else:  # Si es la última fila de un vehículo\n",
    "                rows[i]['timestamps'] = rows[i]['timestamps'] + timedelta(minutes=1)\n",
    "        else:  # Si es la primera fila de un vehículo\n",
    "            current_vehicle += 1\n",
    "            rows[i]['timestamps'] = start_date\n",
    "\n",
    "# Escribir datos en CSV\n",
    "with open('timelines/timeline-20-50-2-0.csv', 'w', newline='') as csvfile:\n",
    "    writer = csv.DictWriter(csvfile, fieldnames=fieldnames)\n",
    "    writer.writeheader()\n",
    "    writer.writerows(rows)\n",
    "\n",
    "print(\"CSV creado satisfactoriamente.\")\n"
   ]
  }
 ],
 "metadata": {
  "kernelspec": {
   "display_name": "Python 3 (ipykernel)",
   "language": "python",
   "name": "python3"
  },
  "language_info": {
   "codemirror_mode": {
    "name": "ipython",
    "version": 3
   },
   "file_extension": ".py",
   "mimetype": "text/x-python",
   "name": "python",
   "nbconvert_exporter": "python",
   "pygments_lexer": "ipython3",
   "version": "3.11.5"
  }
 },
 "nbformat": 4,
 "nbformat_minor": 5
}
